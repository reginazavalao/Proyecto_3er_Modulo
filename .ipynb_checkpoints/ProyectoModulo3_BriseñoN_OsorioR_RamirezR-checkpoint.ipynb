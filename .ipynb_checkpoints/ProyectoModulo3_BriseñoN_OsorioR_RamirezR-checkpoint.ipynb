{
 "cells": [
  {
   "cell_type": "markdown",
   "metadata": {},
   "source": [
    "# Crecimiento de la población en Jalisco\n",
    "***"
   ]
  },
  {
   "cell_type": "markdown",
   "metadata": {},
   "source": [
    "## Objetivos\n",
    "---"
   ]
  },
  {
   "cell_type": "markdown",
   "metadata": {},
   "source": [
    "> Encontrar la ecuación que determine la posición del cuerpo analizado respecto al tiempo.\n",
    "\n",
    "> Emplear las funciones de python para resolver la ecuación diferencial presentada.\n",
    "\n",
    "> Comparar la solución de la ecuación obtenida por medio de la programación con la solución analítica proporcionada.\n",
    "\n",
    "> Interpretar la solución visual por medio de la teoría vista en clase y el marco teórico general de la física."
   ]
  },
  {
   "cell_type": "markdown",
   "metadata": {},
   "source": [
    "## Problema\n",
    "---"
   ]
  },
  {
   "cell_type": "markdown",
   "metadata": {},
   "source": [
    "> Un peso que pesa $64 lb$ se suelta desde una altura de $100 pies$ con una velocidad inicial de $10\\frac{pies}{seg}$. Suponga que la resistencia del aire es proporcional a la velocidad del cuerpo. Se sabe que la velocidad límite debe ser $128\\frac{pies}{seg}$.\n",
    "\n",
    "> a) Encontrar una expresión para la velovidad del cuerpo en un momento $t$.\n",
    "\n",
    "> b) Una expresión para la posición en un momento $t$."
   ]
  },
  {
   "cell_type": "markdown",
   "metadata": {},
   "source": [
    "## Modelo\n",
    "---"
   ]
  },
  {
   "cell_type": "markdown",
   "metadata": {},
   "source": [
    "> El modelo que utilizaremos para resolver nuestro problema es el siguiente:\n",
    "\n",
    "$$\\frac{dv}{dt}=kv$$\n",
    "\n",
    ">Donde $v(t)$ es la velocidad con respecto al tiempo $t$."
   ]
  },
  {
   "cell_type": "markdown",
   "metadata": {},
   "source": [
    "## Solución\n",
    "---"
   ]
  },
  {
   "cell_type": "markdown",
   "metadata": {},
   "source": [
    "> A partir del problema podemos obtener los siquientes datos:\n",
    "\n",
    "$$w = 64lb$$\n",
    "\n",
    "$$w=mg$$\n",
    "\n",
    "> Con esto se deduce que:\n",
    "\n",
    "$$mg=64lb$$\n",
    "\n",
    "> Despejando $m$ obtenemos que:\n",
    "\n",
    "$$m=2slug$$\n",
    "\n",
    "> Por otro lado se sabe que $v_1=128pies/seg$, por lo que obtenemos la siguiente igualdad:\n",
    "\n",
    "$$128=\\frac{64}{k}$$\n",
    "\n",
    "> Despejando $k$:\n",
    "\n",
    "$$k=\\frac{1}{2}$$\n",
    "\n",
    ">Sustituyendo en el modelo matématico queda:\n",
    "\n",
    "$$\\frac{dv}{dt}+\\frac{1}{4}v=32$$\n",
    "\n",
    "> Para resolverla se debe de igualar a $0$ la ecuación de la siguiente manera:\n",
    "\n",
    "$$\\frac{dv}{dt}+\\frac{1}{4}v-32=0$$"
   ]
  },
  {
   "cell_type": "code",
   "execution_count": 21,
   "metadata": {},
   "outputs": [],
   "source": [
    "import sympy as sym\n",
    "import numpy as np\n",
    "import matplotlib.pyplot as plt"
   ]
  },
  {
   "cell_type": "code",
   "execution_count": 2,
   "metadata": {},
   "outputs": [
    {
     "data": {
      "text/latex": [
       "$\\displaystyle v{\\left(t \\right)}$"
      ],
      "text/plain": [
       "v(t)"
      ]
     },
     "execution_count": 2,
     "metadata": {},
     "output_type": "execute_result"
    }
   ],
   "source": [
    "sym.var('t')\n",
    "v = sym.Function('v')\n",
    "v(t)"
   ]
  },
  {
   "cell_type": "code",
   "execution_count": 5,
   "metadata": {},
   "outputs": [
    {
     "data": {
      "text/latex": [
       "$\\displaystyle 0.25 v{\\left(t \\right)} + \\frac{d}{d t} v{\\left(t \\right)} - 32$"
      ],
      "text/plain": [
       "0.25*v(t) + Derivative(v(t), t) - 32"
      ]
     },
     "execution_count": 5,
     "metadata": {},
     "output_type": "execute_result"
    }
   ],
   "source": [
    "# Se define la ecuación simbólica\n",
    "eq = sym.Derivative(v(t),t) + (1/4)*v(t)-32\n",
    "eq"
   ]
  },
  {
   "cell_type": "code",
   "execution_count": 6,
   "metadata": {},
   "outputs": [
    {
     "data": {
      "text/latex": [
       "$\\displaystyle v{\\left(t \\right)} = C_{1} e^{- 0.25 t} + 128.0$"
      ],
      "text/plain": [
       "Eq(v(t), C1*exp(-0.25*t) + 128.0)"
      ]
     },
     "execution_count": 6,
     "metadata": {},
     "output_type": "execute_result"
    }
   ],
   "source": [
    "# Se integra para encontrar la ecuación de velocidad con respecto a t\n",
    "velocidad = sym.dsolve(eq,v(t))\n",
    "velocidad"
   ]
  },
  {
   "cell_type": "markdown",
   "metadata": {},
   "source": [
    "> La ecuación de velocidad con respecto a $t$ está dada por:\n",
    "\n",
    "$$v(t)=C_1e^{-0.25t}+128$$\n",
    "\n",
    "> Para encontrar la constante $C_1$ se despejará de la ecuación $v(t)$:\n",
    "\n",
    "$$C_1=\\frac{v(t)-128}{e^{-0.25t}}$$\n",
    "\n",
    "> Sustituyendo en ella las condiciones inciciales dadas por el problema:\n",
    "\n",
    "$$t=0seg$$\n",
    "\n",
    "$$v=10\\frac{pies}{seg}$$\n",
    "\n",
    "> Lo que nos queda:\n",
    "\n",
    "$$C_1=\\frac{10-128}{e^{-0.25(0)}}$$"
   ]
  },
  {
   "cell_type": "code",
   "execution_count": 11,
   "metadata": {},
   "outputs": [
    {
     "data": {
      "text/plain": [
       "-118.0"
      ]
     },
     "execution_count": 11,
     "metadata": {},
     "output_type": "execute_result"
    }
   ],
   "source": [
    "def vel(t,v):\n",
    "    return (v-128)/np.exp(-0.25*t)\n",
    "\n",
    "t=0\n",
    "v0=10\n",
    "\n",
    "C1=vel(t,v0)\n",
    "C1"
   ]
  },
  {
   "cell_type": "markdown",
   "metadata": {},
   "source": [
    "> El resultado de la constante queda:\n",
    "\n",
    "$$C_1=-118$$"
   ]
  },
  {
   "cell_type": "markdown",
   "metadata": {},
   "source": [
    "> La ecuación de velocidad para cualquier momento $t$:\n",
    "\n",
    "$$v(t)=-118e^{-0.25t}+128$$"
   ]
  },
  {
   "cell_type": "markdown",
   "metadata": {},
   "source": [
    "***"
   ]
  },
  {
   "cell_type": "markdown",
   "metadata": {},
   "source": [
    "> Para encontrar la ecuación de posición para cualquier momento $t$ tenemos que:\n",
    "\n",
    "$$v=\\frac{dx}{dt}$$\n",
    "\n",
    "> Donde $x$ es el desplazamiento"
   ]
  },
  {
   "cell_type": "markdown",
   "metadata": {},
   "source": [
    "> Se puede escribir como:\n",
    "\n",
    "$$\\frac{dx}{dt}=-118e^{-0.25t}+128$$"
   ]
  },
  {
   "cell_type": "markdown",
   "metadata": {},
   "source": [
    "> Igualando a $0$:\n",
    "\n",
    "$$\\frac{dx}{dt}+118e^{-0.25t}-128=0$$"
   ]
  },
  {
   "cell_type": "code",
   "execution_count": 23,
   "metadata": {},
   "outputs": [
    {
     "data": {
      "text/latex": [
       "$\\displaystyle x{\\left(t \\right)}$"
      ],
      "text/plain": [
       "x(t)"
      ]
     },
     "execution_count": 23,
     "metadata": {},
     "output_type": "execute_result"
    }
   ],
   "source": [
    "sym.var('t') \n",
    "x = sym.Function('x') \n",
    "x(t)"
   ]
  },
  {
   "cell_type": "code",
   "execution_count": 24,
   "metadata": {},
   "outputs": [],
   "source": [
    "from math import e"
   ]
  },
  {
   "cell_type": "code",
   "execution_count": 30,
   "metadata": {},
   "outputs": [
    {
     "data": {
      "text/latex": [
       "$\\displaystyle \\frac{d}{d t} x{\\left(t \\right)} - 128 + 118 e^{- 0.25 t}$"
      ],
      "text/plain": [
       "Derivative(x(t), t) - 128 + 118*exp(-0.25*t)"
      ]
     },
     "execution_count": 30,
     "metadata": {},
     "output_type": "execute_result"
    }
   ],
   "source": [
    "eq1 = sym.Derivative(x(t),t) + 118*sym.exp(-0.25*t)-128\n",
    "eq1"
   ]
  },
  {
   "cell_type": "code",
   "execution_count": 31,
   "metadata": {},
   "outputs": [
    {
     "data": {
      "text/latex": [
       "$\\displaystyle x{\\left(t \\right)} = C_{1} + 128 t + 472.0 e^{- 0.25 t}$"
      ],
      "text/plain": [
       "Eq(x(t), C1 + 128*t + 472.0*exp(-0.25*t))"
      ]
     },
     "execution_count": 31,
     "metadata": {},
     "output_type": "execute_result"
    }
   ],
   "source": [
    "posicion = sym.dsolve(eq1,x(t))\n",
    "posicion"
   ]
  },
  {
   "cell_type": "markdown",
   "metadata": {},
   "source": [
    "> La ecuación de posición con respecto a $t$ está dada por:\n",
    "\n",
    "$$x(t)=C_1+128t+472e^{-0.25t}$$\n",
    "\n",
    "> Para encontrar la constante $C_1$ se despejará de la ecuación $x(t)$:\n",
    "\n",
    "$$C_1=x(t)-128t-472e^{-0.25t}$$\n",
    "\n",
    "> Sustituyendo en ella las condiciones inciciales dadas por el problema:\n",
    "\n",
    "$$t=0 seg$$\n",
    "\n",
    "$$x=0 pies$$\n",
    "\n",
    "> Lo que nos queda:\n",
    "\n",
    "$$C_1=0-128(0)-472e^{-0.25(0)}$$"
   ]
  },
  {
   "cell_type": "code",
   "execution_count": 33,
   "metadata": {},
   "outputs": [
    {
     "data": {
      "text/plain": [
       "-472.0"
      ]
     },
     "execution_count": 33,
     "metadata": {},
     "output_type": "execute_result"
    }
   ],
   "source": [
    "def pos(t,x):\n",
    "    return x-128*t-472*np.exp(-0.25*t)\n",
    "\n",
    "t=0\n",
    "x0=0\n",
    "\n",
    "C1=pos(t,x0)\n",
    "C1"
   ]
  },
  {
   "cell_type": "markdown",
   "metadata": {},
   "source": [
    "> El resultado de la constante $C_1$ de la ecuación de posición queda:\n",
    "\n",
    "$$C_1=-472$$"
   ]
  },
  {
   "cell_type": "markdown",
   "metadata": {},
   "source": [
    "> La ecuación de posición para cualquier momento $t$:\n",
    "\n",
    "$$x(t)=128t+472e^{-0.25t}-472$$"
   ]
  },
  {
   "cell_type": "markdown",
   "metadata": {},
   "source": [
    "## Visualización de la solución\n",
    "---"
   ]
  },
  {
   "cell_type": "markdown",
   "metadata": {},
   "source": [
    "## Conclusiones\n",
    "---"
   ]
  },
  {
   "cell_type": "markdown",
   "metadata": {},
   "source": [
    "## Referencias\n",
    "---"
   ]
  }
 ],
 "metadata": {
  "kernelspec": {
   "display_name": "Python 3",
   "language": "python",
   "name": "python3"
  },
  "language_info": {
   "codemirror_mode": {
    "name": "ipython",
    "version": 3
   },
   "file_extension": ".py",
   "mimetype": "text/x-python",
   "name": "python",
   "nbconvert_exporter": "python",
   "pygments_lexer": "ipython3",
   "version": "3.7.4"
  }
 },
 "nbformat": 4,
 "nbformat_minor": 2
}

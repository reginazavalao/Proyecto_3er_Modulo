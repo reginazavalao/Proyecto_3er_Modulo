{
 "cells": [
  {
   "cell_type": "markdown",
   "metadata": {},
   "source": [
    "# Crecimiento de la población en Jalisco\n",
    "***"
   ]
  },
  {
   "cell_type": "markdown",
   "metadata": {},
   "source": [
    "## Objetivos\n",
    "---"
   ]
  },
  {
   "cell_type": "markdown",
   "metadata": {},
   "source": [
    "> Encontrar el tiempo en el que se va a duplicar la población en Jalisco.\n",
    "\n",
    "> Plantear la ecuación diferencial que determine el crecimiento de la población según los datos obtenidos en la plataforma INEGI.\n",
    "\n",
    "> Resolver la ecuación diferencial mediante las librerías de python.\n",
    "\n",
    "> Optimizar el proceso de encontrar la solución.\n",
    "\n",
    "> Interpretar los resultados numéricos para futuras decisiones socioeconómicas."
   ]
  },
  {
   "cell_type": "markdown",
   "metadata": {},
   "source": [
    "## Problema\n",
    "---"
   ]
  },
  {
   "cell_type": "markdown",
   "metadata": {},
   "source": [
    "> Se sabe que en 2010 Jalisco tenía una población de 7 millones 350 mil habitantes. También se sabe que en 2020 aumentó un millón. Se requiere saber cuántos años tardará en que la población de Jalisco se duplique."
   ]
  },
  {
   "cell_type": "markdown",
   "metadata": {},
   "source": [
    "## Modelo\n",
    "---"
   ]
  },
  {
   "cell_type": "markdown",
   "metadata": {},
   "source": [
    "> El modelo que utilizaremos para resolver nuestro problema es el siguiente:\n",
    "\n",
    "$$\\frac{dx}{dt}=rx$$\n",
    "\n",
    ">Donde $x(t)$ es la población en el tiempo $t$ y $r>0$ es la tasa de crecimiento poblacional."
   ]
  },
  {
   "cell_type": "markdown",
   "metadata": {},
   "source": [
    "## Solución\n",
    "---"
   ]
  },
  {
   "cell_type": "markdown",
   "metadata": {},
   "source": [
    "> Para calcular la tasa de crecimiento poblacional $r$ entre 2010 y 2020, utilizaremos la siguiente fórmula:\n",
    "\n",
    "$$r=\\frac{P_t-P_0}{P_0}$$"
   ]
  },
  {
   "cell_type": "markdown",
   "metadata": {},
   "source": [
    ">$P_t$ = la población del 2020\n",
    "    \n",
    ">$P_0$ = la población del 2010"
   ]
  },
  {
   "cell_type": "code",
   "execution_count": 55,
   "metadata": {},
   "outputs": [],
   "source": [
    "# Definimos Pt y P0\n",
    "P0 = 7350000\n",
    "Pt = P0 + 1000000"
   ]
  },
  {
   "cell_type": "code",
   "execution_count": 56,
   "metadata": {},
   "outputs": [
    {
     "data": {
      "text/plain": [
       "0.1360544217687075"
      ]
     },
     "execution_count": 56,
     "metadata": {},
     "output_type": "execute_result"
    }
   ],
   "source": [
    "# Calculamos la tasa de crecimiento\n",
    "r = (Pt-P0)/P0\n",
    "r"
   ]
  },
  {
   "cell_type": "markdown",
   "metadata": {},
   "source": [
    "> Tomando la ecuación logística determinada por Verhulst en 1838 y el valor de $\\mu(x)$, se obtiene la ecuación diferencial que describe el comportamiento poblacional de Jalisco.\n",
    "\n",
    "$$\\frac{dx}{dt} = r\\; x\\; (1+x)$$"
   ]
  },
  {
   "cell_type": "code",
   "execution_count": 57,
   "metadata": {},
   "outputs": [],
   "source": [
    "import sympy as sym\n",
    "import numpy as np\n",
    "import matplotlib.pyplot as plt"
   ]
  },
  {
   "cell_type": "code",
   "execution_count": 119,
   "metadata": {},
   "outputs": [],
   "source": [
    "sym.var('t')\n",
    "sym.var('r')\n",
    "x = sym.Function('x')"
   ]
  },
  {
   "cell_type": "code",
   "execution_count": 120,
   "metadata": {},
   "outputs": [
    {
     "data": {
      "text/latex": [
       "$\\displaystyle - r x{\\left(t \\right)} + \\frac{d}{d t} x{\\left(t \\right)}$"
      ],
      "text/plain": [
       "-r*x(t) + Derivative(x(t), t)"
      ]
     },
     "execution_count": 120,
     "metadata": {},
     "output_type": "execute_result"
    }
   ],
   "source": [
    "eq1 = sym.Derivative(x(t),t)-r*x(t)\n",
    "eq1"
   ]
  },
  {
   "cell_type": "code",
   "execution_count": 121,
   "metadata": {},
   "outputs": [
    {
     "data": {
      "text/latex": [
       "$\\displaystyle x{\\left(t \\right)} = C_{1} e^{r t}$"
      ],
      "text/plain": [
       "Eq(x(t), C1*exp(r*t))"
      ]
     },
     "execution_count": 121,
     "metadata": {},
     "output_type": "execute_result"
    }
   ],
   "source": [
    "sol1 = sym.dsolve(eq1,x(t))\n",
    "sol1"
   ]
  },
  {
   "cell_type": "code",
   "execution_count": 123,
   "metadata": {},
   "outputs": [
    {
     "data": {
      "text/latex": [
       "$\\displaystyle x{\\left(t \\right)} = 7350000 e^{r t}$"
      ],
      "text/plain": [
       "Eq(x(t), 7350000*exp(r*t))"
      ]
     },
     "execution_count": 123,
     "metadata": {},
     "output_type": "execute_result"
    }
   ],
   "source": [
    "sol1.subs('C1',P0)"
   ]
  },
  {
   "cell_type": "code",
   "execution_count": 124,
   "metadata": {},
   "outputs": [],
   "source": [
    "def solA(t,r,P0):\n",
    "    return P0*np.exp(r*t)"
   ]
  },
  {
   "cell_type": "code",
   "execution_count": 125,
   "metadata": {},
   "outputs": [],
   "source": [
    "def solN(x,t,r):\n",
    "    return r*x"
   ]
  },
  {
   "cell_type": "code",
   "execution_count": 136,
   "metadata": {},
   "outputs": [],
   "source": [
    "r=0.13\n",
    "t = np.linspace(0,10,100)\n",
    "sol2 = odeint(solN,P0,t,args=(r,))"
   ]
  },
  {
   "cell_type": "code",
   "execution_count": 137,
   "metadata": {},
   "outputs": [],
   "source": [
    "x = sol2[:,0]"
   ]
  },
  {
   "cell_type": "code",
   "execution_count": 138,
   "metadata": {},
   "outputs": [
    {
     "data": {
      "image/png": "[encoded data removed]",
      "text/plain": [
       "<Figure size 432x288 with 1 Axes>"
      ]
     },
     "metadata": {
      "needs_background": "light"
     },
     "output_type": "display_data"
    }
   ],
   "source": [
    "xa = solA(t,r,P0)\n",
    "plt.plot(t,x,lw=6,label='Solución numérica')\n",
    "plt.plot(t,xa,lw=0.9,label='Solución Analítica')\n",
    "plt.legend(loc='best')\n",
    "plt.grid()"
   ]
  },
  {
   "cell_type": "code",
   "execution_count": 105,
   "metadata": {},
   "outputs": [
    {
     "data": {
      "text/latex": [
       "$\\displaystyle - r \\left(1 - x{\\left(t \\right)}\\right) x{\\left(t \\right)} + \\frac{d}{d t} x{\\left(t \\right)}$"
      ],
      "text/plain": [
       "-r*(1 - x(t))*x(t) + Derivative(x(t), t)"
      ]
     },
     "execution_count": 105,
     "metadata": {},
     "output_type": "execute_result"
    }
   ],
   "source": [
    "eq = sym.Derivative(x(t),t)-r*x(t)*(1-x(t))\n",
    "eq"
   ]
  },
  {
   "cell_type": "code",
   "execution_count": 106,
   "metadata": {},
   "outputs": [
    {
     "data": {
      "text/latex": [
       "$\\displaystyle x{\\left(t \\right)} = \\frac{1}{C_{1} e^{- r t} + 1}$"
      ],
      "text/plain": [
       "Eq(x(t), 1/(C1*exp(-r*t) + 1))"
      ]
     },
     "execution_count": 106,
     "metadata": {},
     "output_type": "execute_result"
    }
   ],
   "source": [
    "sol = sym.dsolve(eq,x(t))\n",
    "sol"
   ]
  },
  {
   "cell_type": "code",
   "execution_count": 109,
   "metadata": {},
   "outputs": [
    {
     "data": {
      "text/latex": [
       "$\\displaystyle x{\\left(t \\right)} = \\frac{1}{\\left(-1 + \\frac{1}{x_{0}}\\right) e^{- r t} + 1}$"
      ],
      "text/plain": [
       "Eq(x(t), 1/((-1 + 1/x0)*exp(-r*t) + 1))"
      ]
     },
     "execution_count": 109,
     "metadata": {},
     "output_type": "execute_result"
    }
   ],
   "source": [
    "sym.var('x0')\n",
    "sol.subs('C1',1/x0-1)"
   ]
  },
  {
   "cell_type": "code",
   "execution_count": 110,
   "metadata": {},
   "outputs": [],
   "source": [
    "def solAnalitica(t,r,x0):\n",
    "    return 1/(1+(1/x0-1)*np.exp(r*t))"
   ]
  },
  {
   "cell_type": "code",
   "execution_count": 111,
   "metadata": {},
   "outputs": [],
   "source": [
    "from scipy.integrate import odeint"
   ]
  },
  {
   "cell_type": "code",
   "execution_count": 112,
   "metadata": {},
   "outputs": [],
   "source": [
    "def solNumerica(x,t,r):\n",
    "    return r*(1-x)*x"
   ]
  },
  {
   "cell_type": "code",
   "execution_count": 113,
   "metadata": {},
   "outputs": [],
   "source": [
    "r=0.13\n",
    "t = np.linspace(2010,2025,100)\n",
    "sol = odeint(solNumerica,P0,t,args=(r,)) # Solución numérica"
   ]
  },
  {
   "cell_type": "code",
   "execution_count": 114,
   "metadata": {},
   "outputs": [],
   "source": [
    "x = sol[:,0]"
   ]
  },
  {
   "cell_type": "code",
   "execution_count": 115,
   "metadata": {},
   "outputs": [
    {
     "data": {
      "image/png": "[encoded data removed]",
      "text/plain": [
       "<Figure size 432x288 with 1 Axes>"
      ]
     },
     "metadata": {
      "needs_background": "light"
     },
     "output_type": "display_data"
    }
   ],
   "source": [
    "xa = solAnalitica(t,r,P0)\n",
    "plt.plot(t,x,lw=6,label='Solución numérica')\n",
    "plt.plot(t,xa,lw=0.9,label='Solución Analítica')\n",
    "plt.legend(loc='best')\n",
    "plt.grid()"
   ]
  },
  {
   "cell_type": "markdown",
   "metadata": {},
   "source": [
    "## Visualización de la solución\n",
    "---"
   ]
  },
  {
   "cell_type": "markdown",
   "metadata": {},
   "source": [
    "## Conclusiones\n",
    "---"
   ]
  },
  {
   "cell_type": "markdown",
   "metadata": {},
   "source": [
    "## Referencias\n",
    "---"
   ]
  }
 ],
 "metadata": {
  "kernelspec": {
   "display_name": "Python 3",
   "language": "python",
   "name": "python3"
  },
  "language_info": {
   "codemirror_mode": {
    "name": "ipython",
    "version": 3
   },
   "file_extension": ".py",
   "mimetype": "text/x-python",
   "name": "python",
   "nbconvert_exporter": "python",
   "pygments_lexer": "ipython3",
   "version": "3.7.4"
  }
 },
 "nbformat": 4,
 "nbformat_minor": 2
}

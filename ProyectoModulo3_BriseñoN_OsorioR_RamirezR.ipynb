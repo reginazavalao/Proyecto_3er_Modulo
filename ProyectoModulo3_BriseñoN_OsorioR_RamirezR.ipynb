{
 "cells": [
  {
   "cell_type": "markdown",
   "metadata": {},
   "source": [
    "# Crecimiento de la población en Jalisco\n",
    "***"
   ]
  },
  {
   "cell_type": "markdown",
   "metadata": {},
   "source": [
    "## Objetivos\n",
    "---"
   ]
  },
  {
   "cell_type": "markdown",
   "metadata": {},
   "source": [
    "> Encontrar el tiempo en el que se va a triplicar y cuadruplicar la población en Jalisco.\n",
    "\n",
    "> Resolver una ecuación diferencial mediante las librerías de python.\n",
    "\n",
    "> Optimizar el proceso de encontrar la solución."
   ]
  },
  {
   "cell_type": "markdown",
   "metadata": {},
   "source": [
    "## Problema\n",
    "---"
   ]
  },
  {
   "cell_type": "markdown",
   "metadata": {},
   "source": [
    "> Se sabe que en 2010 Jalisco tenía una población de 7 millones 350 mil habitantes. También se sabe que en 2020 aumentó un millón. Se requiere saber cuántos años tardará en que la población de Jalisco se duplique y triplique."
   ]
  },
  {
   "cell_type": "markdown",
   "metadata": {},
   "source": [
    "## Modelo\n",
    "---"
   ]
  },
  {
   "cell_type": "markdown",
   "metadata": {},
   "source": [
    "> El modelo que utilizaremos para resolver nuestro problema es el siguiente:\n",
    "\n",
    "$$\\frac{dx}{dt}=rx$$\n",
    "\n",
    ">Donde $x(t)$ es la población en el tiempo $t$ y $r>0$ es la tasa de crecimiento poblacional."
   ]
  },
  {
   "cell_type": "markdown",
   "metadata": {},
   "source": [
    "## Solución\n",
    "---"
   ]
  },
  {
   "cell_type": "markdown",
   "metadata": {},
   "source": [
    "## Visualización de la solución\n",
    "---"
   ]
  },
  {
   "cell_type": "markdown",
   "metadata": {},
   "source": [
    "## Conclusiones\n",
    "---"
   ]
  },
  {
   "cell_type": "markdown",
   "metadata": {},
   "source": [
    "## Referencias\n",
    "---"
   ]
  }
 ],
 "metadata": {
  "kernelspec": {
   "display_name": "Python 3",
   "language": "python",
   "name": "python3"
  },
  "language_info": {
   "codemirror_mode": {
    "name": "ipython",
    "version": 3
   },
   "file_extension": ".py",
   "mimetype": "text/x-python",
   "name": "python",
   "nbconvert_exporter": "python",
   "pygments_lexer": "ipython3",
   "version": "3.7.4"
  }
 },
 "nbformat": 4,
 "nbformat_minor": 2
}
